{
 "cells": [
  {
   "cell_type": "code",
   "execution_count": 1,
   "id": "ac5d2a03",
   "metadata": {},
   "outputs": [],
   "source": [
    "from warnings import filterwarnings\n",
    "filterwarnings('ignore')"
   ]
  },
  {
   "cell_type": "code",
   "execution_count": 2,
   "id": "526466e8",
   "metadata": {},
   "outputs": [],
   "source": [
    "import pandas as pd\n",
    "A=pd.read_csv('C:/Users/dell/Desktop/chandra/cars93.csv')"
   ]
  },
  {
   "cell_type": "code",
   "execution_count": 3,
   "id": "883b46d6",
   "metadata": {},
   "outputs": [
    {
     "data": {
      "text/html": [
       "<div>\n",
       "<style scoped>\n",
       "    .dataframe tbody tr th:only-of-type {\n",
       "        vertical-align: middle;\n",
       "    }\n",
       "\n",
       "    .dataframe tbody tr th {\n",
       "        vertical-align: top;\n",
       "    }\n",
       "\n",
       "    .dataframe thead th {\n",
       "        text-align: right;\n",
       "    }\n",
       "</style>\n",
       "<table border=\"1\" class=\"dataframe\">\n",
       "  <thead>\n",
       "    <tr style=\"text-align: right;\">\n",
       "      <th></th>\n",
       "      <th>id</th>\n",
       "      <th>Manufacturer</th>\n",
       "      <th>Model</th>\n",
       "      <th>Type</th>\n",
       "      <th>Min.Price</th>\n",
       "      <th>Price</th>\n",
       "      <th>Max.Price</th>\n",
       "      <th>MPG.city</th>\n",
       "      <th>MPG.highway</th>\n",
       "      <th>AirBags</th>\n",
       "      <th>...</th>\n",
       "      <th>Passengers</th>\n",
       "      <th>Length</th>\n",
       "      <th>Wheelbase</th>\n",
       "      <th>Width</th>\n",
       "      <th>Turn.circle</th>\n",
       "      <th>Rear.seat.room</th>\n",
       "      <th>Luggage.room</th>\n",
       "      <th>Weight</th>\n",
       "      <th>Origin</th>\n",
       "      <th>Make</th>\n",
       "    </tr>\n",
       "  </thead>\n",
       "  <tbody>\n",
       "    <tr>\n",
       "      <th>0</th>\n",
       "      <td>1</td>\n",
       "      <td>Acura</td>\n",
       "      <td>Integra</td>\n",
       "      <td>Small</td>\n",
       "      <td>12.9</td>\n",
       "      <td>15.9</td>\n",
       "      <td>18.8</td>\n",
       "      <td>25</td>\n",
       "      <td>31</td>\n",
       "      <td>None</td>\n",
       "      <td>...</td>\n",
       "      <td>5</td>\n",
       "      <td>177</td>\n",
       "      <td>102</td>\n",
       "      <td>68</td>\n",
       "      <td>37</td>\n",
       "      <td>26.5</td>\n",
       "      <td>11.0</td>\n",
       "      <td>2705</td>\n",
       "      <td>non-USA</td>\n",
       "      <td>Acura Integra</td>\n",
       "    </tr>\n",
       "    <tr>\n",
       "      <th>1</th>\n",
       "      <td>2</td>\n",
       "      <td>Acura</td>\n",
       "      <td>Legend</td>\n",
       "      <td>Midsize</td>\n",
       "      <td>29.2</td>\n",
       "      <td>33.9</td>\n",
       "      <td>38.7</td>\n",
       "      <td>18</td>\n",
       "      <td>25</td>\n",
       "      <td>Driver &amp; Passenger</td>\n",
       "      <td>...</td>\n",
       "      <td>5</td>\n",
       "      <td>195</td>\n",
       "      <td>115</td>\n",
       "      <td>71</td>\n",
       "      <td>38</td>\n",
       "      <td>30.0</td>\n",
       "      <td>15.0</td>\n",
       "      <td>3560</td>\n",
       "      <td>non-USA</td>\n",
       "      <td>Acura Legend</td>\n",
       "    </tr>\n",
       "  </tbody>\n",
       "</table>\n",
       "<p>2 rows × 28 columns</p>\n",
       "</div>"
      ],
      "text/plain": [
       "   id Manufacturer    Model     Type  Min.Price  Price  Max.Price  MPG.city  \\\n",
       "0   1        Acura  Integra    Small       12.9   15.9       18.8        25   \n",
       "1   2        Acura   Legend  Midsize       29.2   33.9       38.7        18   \n",
       "\n",
       "   MPG.highway             AirBags  ... Passengers Length  Wheelbase  Width  \\\n",
       "0           31                None  ...          5    177        102     68   \n",
       "1           25  Driver & Passenger  ...          5    195        115     71   \n",
       "\n",
       "   Turn.circle  Rear.seat.room Luggage.room  Weight   Origin           Make  \n",
       "0           37            26.5         11.0    2705  non-USA  Acura Integra  \n",
       "1           38            30.0         15.0    3560  non-USA   Acura Legend  \n",
       "\n",
       "[2 rows x 28 columns]"
      ]
     },
     "execution_count": 3,
     "metadata": {},
     "output_type": "execute_result"
    }
   ],
   "source": [
    "A.head(2)"
   ]
  },
  {
   "cell_type": "code",
   "execution_count": 4,
   "id": "21b3c3ca",
   "metadata": {},
   "outputs": [],
   "source": [
    "B=A[['Price','MPG.highway']]"
   ]
  },
  {
   "cell_type": "code",
   "execution_count": 5,
   "id": "55aa61eb",
   "metadata": {},
   "outputs": [],
   "source": [
    "from sklearn.preprocessing import MinMaxScaler\n",
    "mm=MinMaxScaler()\n",
    "C=pd.DataFrame(mm.fit_transform(B),columns=B.columns)"
   ]
  },
  {
   "cell_type": "code",
   "execution_count": 6,
   "id": "c9988610",
   "metadata": {},
   "outputs": [],
   "source": [
    "from sklearn.cluster import KMeans\n",
    "km=KMeans(n_clusters=3)\n",
    "model=km.fit(C)"
   ]
  },
  {
   "cell_type": "code",
   "execution_count": 7,
   "id": "ec70887b",
   "metadata": {},
   "outputs": [
    {
     "data": {
      "text/plain": [
       "array([2, 0, 0, 0, 0, 2, 2, 2, 0, 0, 0, 1, 1, 2, 2, 2, 2, 2, 0, 2, 2, 0,\n",
       "       1, 2, 2, 2, 2, 0, 1, 2, 1, 2, 2, 2, 2, 2, 2, 2, 1, 1, 2, 1, 2, 1,\n",
       "       2, 1, 2, 0, 0, 0, 0, 0, 1, 1, 1, 2, 0, 0, 0, 2, 2, 1, 0, 1, 2, 2,\n",
       "       2, 2, 2, 2, 2, 2, 1, 2, 2, 2, 2, 0, 1, 1, 2, 2, 1, 1, 2, 2, 2, 1,\n",
       "       2, 2, 2, 2, 0])"
      ]
     },
     "execution_count": 7,
     "metadata": {},
     "output_type": "execute_result"
    }
   ],
   "source": [
    "model.labels_"
   ]
  },
  {
   "cell_type": "code",
   "execution_count": 8,
   "id": "d4228884",
   "metadata": {},
   "outputs": [
    {
     "data": {
      "text/plain": [
       "array([[0.48842289, 0.18571429],\n",
       "       [0.05565749, 0.55555556],\n",
       "       [0.18114769, 0.24705882]])"
      ]
     },
     "execution_count": 8,
     "metadata": {},
     "output_type": "execute_result"
    }
   ],
   "source": [
    "model.cluster_centers_"
   ]
  },
  {
   "cell_type": "code",
   "execution_count": 9,
   "id": "e241288b",
   "metadata": {},
   "outputs": [],
   "source": [
    "Q=pd.DataFrame(mm.inverse_transform(model.cluster_centers_),columns=['X','Y'])"
   ]
  },
  {
   "cell_type": "code",
   "execution_count": 10,
   "id": "4ef857bb",
   "metadata": {},
   "outputs": [
    {
     "data": {
      "text/html": [
       "<div>\n",
       "<style scoped>\n",
       "    .dataframe tbody tr th:only-of-type {\n",
       "        vertical-align: middle;\n",
       "    }\n",
       "\n",
       "    .dataframe tbody tr th {\n",
       "        vertical-align: top;\n",
       "    }\n",
       "\n",
       "    .dataframe thead th {\n",
       "        text-align: right;\n",
       "    }\n",
       "</style>\n",
       "<table border=\"1\" class=\"dataframe\">\n",
       "  <thead>\n",
       "    <tr style=\"text-align: right;\">\n",
       "      <th></th>\n",
       "      <th>X</th>\n",
       "      <th>Y</th>\n",
       "    </tr>\n",
       "  </thead>\n",
       "  <tbody>\n",
       "    <tr>\n",
       "      <th>0</th>\n",
       "      <td>34.019048</td>\n",
       "      <td>25.571429</td>\n",
       "    </tr>\n",
       "    <tr>\n",
       "      <th>1</th>\n",
       "      <td>10.433333</td>\n",
       "      <td>36.666667</td>\n",
       "    </tr>\n",
       "    <tr>\n",
       "      <th>2</th>\n",
       "      <td>17.272549</td>\n",
       "      <td>27.411765</td>\n",
       "    </tr>\n",
       "  </tbody>\n",
       "</table>\n",
       "</div>"
      ],
      "text/plain": [
       "           X          Y\n",
       "0  34.019048  25.571429\n",
       "1  10.433333  36.666667\n",
       "2  17.272549  27.411765"
      ]
     },
     "execution_count": 10,
     "metadata": {},
     "output_type": "execute_result"
    }
   ],
   "source": [
    "Q"
   ]
  },
  {
   "cell_type": "code",
   "execution_count": 11,
   "id": "71b14c20",
   "metadata": {},
   "outputs": [
    {
     "data": {
      "text/plain": [
       "Text(0.5, 1.0, 'scatterplot between price and MPG.highway')"
      ]
     },
     "execution_count": 11,
     "metadata": {},
     "output_type": "execute_result"
    },
    {
     "data": {
      "image/png": "[encoded data removed]",
      "text/plain": [
       "<Figure size 432x288 with 1 Axes>"
      ]
     },
     "metadata": {
      "needs_background": "light"
     },
     "output_type": "display_data"
    }
   ],
   "source": [
    "import matplotlib.pyplot as plt\n",
    "plt.scatter(B.Price,B['MPG.highway'],s=20,c=model.labels_)\n",
    "plt.xlabel('Price')\n",
    "plt.ylabel('MPG.highway')\n",
    "plt.scatter(Q.X,Q.Y,c='red')\n",
    "plt.title('scatterplot between price and MPG.highway')"
   ]
  },
  {
   "cell_type": "markdown",
   "id": "4c53ba33",
   "metadata": {},
   "source": [
    "# elbow curve"
   ]
  },
  {
   "cell_type": "code",
   "execution_count": 12,
   "id": "438d6461",
   "metadata": {},
   "outputs": [],
   "source": [
    "wcss=[]\n",
    "k=range(2,20,1)\n",
    "for i in range(2,20,1):\n",
    "    from sklearn.cluster import KMeans\n",
    "    km=KMeans(n_clusters=i)\n",
    "    model=km.fit(C)\n",
    "    wcss.append(model.inertia_)"
   ]
  },
  {
   "cell_type": "code",
   "execution_count": 13,
   "id": "ec995f74",
   "metadata": {},
   "outputs": [
    {
     "data": {
      "text/plain": [
       "([<matplotlib.axis.XTick at 0x214de74d850>,\n",
       "  <matplotlib.axis.XTick at 0x214de74d820>,\n",
       "  <matplotlib.axis.XTick at 0x214de7324f0>,\n",
       "  <matplotlib.axis.XTick at 0x214de767940>,\n",
       "  <matplotlib.axis.XTick at 0x214de767580>,\n",
       "  <matplotlib.axis.XTick at 0x214de76d160>,\n",
       "  <matplotlib.axis.XTick at 0x214de76d670>,\n",
       "  <matplotlib.axis.XTick at 0x214de76db80>,\n",
       "  <matplotlib.axis.XTick at 0x214de7720d0>,\n",
       "  <matplotlib.axis.XTick at 0x214de7725e0>,\n",
       "  <matplotlib.axis.XTick at 0x214de772af0>,\n",
       "  <matplotlib.axis.XTick at 0x214de778040>,\n",
       "  <matplotlib.axis.XTick at 0x214de772820>,\n",
       "  <matplotlib.axis.XTick at 0x214de76d8b0>,\n",
       "  <matplotlib.axis.XTick at 0x214de778460>,\n",
       "  <matplotlib.axis.XTick at 0x214de7788b0>,\n",
       "  <matplotlib.axis.XTick at 0x214de778dc0>,\n",
       "  <matplotlib.axis.XTick at 0x214de781310>],\n",
       " [Text(0, 0, ''),\n",
       "  Text(0, 0, ''),\n",
       "  Text(0, 0, ''),\n",
       "  Text(0, 0, ''),\n",
       "  Text(0, 0, ''),\n",
       "  Text(0, 0, ''),\n",
       "  Text(0, 0, ''),\n",
       "  Text(0, 0, ''),\n",
       "  Text(0, 0, ''),\n",
       "  Text(0, 0, ''),\n",
       "  Text(0, 0, ''),\n",
       "  Text(0, 0, ''),\n",
       "  Text(0, 0, ''),\n",
       "  Text(0, 0, ''),\n",
       "  Text(0, 0, ''),\n",
       "  Text(0, 0, ''),\n",
       "  Text(0, 0, ''),\n",
       "  Text(0, 0, '')])"
      ]
     },
     "execution_count": 13,
     "metadata": {},
     "output_type": "execute_result"
    },
    {
     "data": {
      "image/png": "[encoded data removed]",
      "text/plain": [
       "<Figure size 432x288 with 1 Axes>"
      ]
     },
     "metadata": {
      "needs_background": "light"
     },
     "output_type": "display_data"
    }
   ],
   "source": [
    "import matplotlib.pyplot as plt\n",
    "plt.scatter(k,wcss,s=20,c='blue')\n",
    "plt.plot(k,wcss,c='red')\n",
    "plt.xlabel('no_of_clusters')\n",
    "plt.ylabel('wcss')\n",
    "plt.title('elbow curve')\n",
    "plt.xticks(range(2,20,1))"
   ]
  },
  {
   "cell_type": "code",
   "execution_count": 14,
   "id": "b2d7058f",
   "metadata": {},
   "outputs": [],
   "source": [
    "from sklearn.cluster import KMeans\n",
    "km=KMeans(n_clusters=6)\n",
    "model=km.fit(C)\n"
   ]
  },
  {
   "cell_type": "code",
   "execution_count": 15,
   "id": "a0a8d138",
   "metadata": {},
   "outputs": [
    {
     "data": {
      "text/plain": [
       "array([2, 3, 3, 3, 3, 2, 2, 0, 3, 3, 3, 4, 4, 2, 2, 0, 0, 0, 3, 2, 2, 3,\n",
       "       4, 2, 2, 0, 2, 0, 4, 2, 4, 2, 2, 2, 2, 0, 2, 0, 1, 4, 2, 1, 2, 4,\n",
       "       2, 4, 2, 5, 3, 3, 3, 3, 4, 4, 4, 0, 3, 3, 5, 2, 2, 4, 0, 4, 2, 0,\n",
       "       0, 2, 2, 0, 2, 2, 1, 2, 2, 2, 2, 3, 4, 4, 2, 2, 1, 4, 2, 2, 0, 4,\n",
       "       0, 2, 0, 2, 3])"
      ]
     },
     "execution_count": 15,
     "metadata": {},
     "output_type": "execute_result"
    }
   ],
   "source": [
    "model.labels_"
   ]
  },
  {
   "cell_type": "code",
   "execution_count": 16,
   "id": "e6002eed",
   "metadata": {},
   "outputs": [],
   "source": [
    "B['clusters']=model.labels_"
   ]
  },
  {
   "cell_type": "code",
   "execution_count": 17,
   "id": "c0518fe0",
   "metadata": {},
   "outputs": [],
   "source": [
    "B['model']=A['Model']"
   ]
  },
  {
   "cell_type": "code",
   "execution_count": 31,
   "id": "9fabb53b",
   "metadata": {},
   "outputs": [
    {
     "name": "stdout",
     "output_type": "stream",
     "text": [
      "enter the name of the model: Integra\n",
      "for the given car Integra\n",
      "---------------------\n",
      "similar cars ['Century', 'LeSabre', 'Camaro', 'Lumina', 'Concorde', 'LeBaron', 'Shadow', 'Spirit', 'Dynasty', 'Vision', 'Escort', 'Tempo', 'Mustang', 'Probe', 'Taurus', 'Prelude', 'Accord', 'Elantra', 'Sonata', 'Capri', 'Cougar', 'Altima', 'Achieva', 'Cutlass_Ciera', 'Eighty-Eight', 'Laser', 'Sunbird', 'Firebird', 'Grand_Prix', 'Bonneville', 'Loyale', 'Legacy', 'Celica', 'Camry', 'Passat', '240']\n"
     ]
    }
   ],
   "source": [
    "m=input('enter the name of the model: ')\n",
    "cluster_no=list(B[B.model==m].clusters)[0]\n",
    "simi=list(B[(B.clusters==cluster_no)&(B.model!=m)].model)\n",
    "print('for the given car',m)\n",
    "print('---------------------')\n",
    "print('similar cars',simi)"
   ]
  },
  {
   "cell_type": "code",
   "execution_count": 29,
   "id": "b18489d5",
   "metadata": {},
   "outputs": [
    {
     "data": {
      "text/plain": [
       "['90',\n",
       " '100',\n",
       " '535i',\n",
       " 'Riviera',\n",
       " 'DeVille',\n",
       " 'Seville',\n",
       " 'Corvette',\n",
       " 'Imperial',\n",
       " 'ES300',\n",
       " 'SC300',\n",
       " 'Continental',\n",
       " 'Town_Car',\n",
       " 'RX-7',\n",
       " '190E',\n",
       " '900',\n",
       " '850']"
      ]
     },
     "execution_count": 29,
     "metadata": {},
     "output_type": "execute_result"
    }
   ],
   "source": []
  },
  {
   "cell_type": "code",
   "execution_count": null,
   "id": "377629f1",
   "metadata": {},
   "outputs": [],
   "source": []
  }
 ],
 "metadata": {
  "kernelspec": {
   "display_name": "Python 3",
   "language": "python",
   "name": "python3"
  },
  "language_info": {
   "codemirror_mode": {
    "name": "ipython",
    "version": 3
   },
   "file_extension": ".py",
   "mimetype": "text/x-python",
   "name": "python",
   "nbconvert_exporter": "python",
   "pygments_lexer": "ipython3",
   "version": "3.8.8"
  }
 },
 "nbformat": 4,
 "nbformat_minor": 5
}
